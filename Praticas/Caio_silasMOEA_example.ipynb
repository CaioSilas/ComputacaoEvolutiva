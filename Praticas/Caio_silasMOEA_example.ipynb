{
  "cells": [
    {
      "cell_type": "code",
      "execution_count": null,
      "metadata": {
        "id": "5cT31kt4YyOD"
      },
      "outputs": [],
      "source": [
        "! pip install deap"
      ]
    },
    {
      "cell_type": "code",
      "execution_count": null,
      "metadata": {
        "id": "W52oKyX0Yr2c"
      },
      "outputs": [],
      "source": [
        "import random\n",
        "import numpy as np\n",
        "import matplotlib.pyplot as plt\n",
        "from deap import base, creator, tools, algorithms"
      ]
    },
    {
      "cell_type": "markdown",
      "metadata": {
        "id": "UllVgWhD1scX"
      },
      "source": [
        "# Problema da Mochila (Exemplo dado)"
      ]
    },
    {
      "cell_type": "code",
      "execution_count": null,
      "metadata": {
        "id": "ackwlbT5Y27b"
      },
      "outputs": [],
      "source": [
        "# Definição do problema multiobjetivo (minimizar peso, maximizar valor)\n",
        "creator.create(\"FitnessMulti\", base.Fitness, weights=(-1.0, 1.0))  # Minimiza peso, maximiza valor\n",
        "creator.create(\"Individual\", list, fitness=creator.FitnessMulti)"
      ]
    },
    {
      "cell_type": "code",
      "execution_count": null,
      "metadata": {
        "id": "ZJvk4OZPZAZq"
      },
      "outputs": [],
      "source": [
        "# Instância para teste\n",
        "# Definição dos itens da mochila (peso, valor)\n",
        "ITENS = [\n",
        "    (3, 10), (8, 30), (2, 12), (6, 28), (5, 18),\n",
        "    (12, 50), (7, 20), (4, 15), (9, 38), (10, 35),\n",
        "    (15, 60), (1, 5), (11, 40), (14, 48), (13, 45),\n",
        "    (16, 55), (17, 62), (18, 65), (19, 70), (20, 75),\n",
        "    (5, 10), (7, 15), (6, 12), (9, 25), (12, 42),\n",
        "    (14, 45), (10, 18), (3, 8), (8, 22), (4, 14)\n",
        "]"
      ]
    },
    {
      "cell_type": "code",
      "execution_count": null,
      "metadata": {
        "id": "DHsLcC4Sljv9"
      },
      "outputs": [],
      "source": [
        "random.seed(42)\n",
        "np.random.seed(42)"
      ]
    },
    {
      "cell_type": "code",
      "execution_count": null,
      "metadata": {
        "id": "cWI3mzsOZPWi"
      },
      "outputs": [],
      "source": [
        "# Função de avaliação\n",
        "def evaluate(individual):\n",
        "    peso_total = sum(ITENS[i][0] for i in range(len(ITENS)) if individual[i] == 1)\n",
        "    valor_total = sum(ITENS[i][1] for i in range(len(ITENS)) if individual[i] == 1)\n",
        "\n",
        "    return peso_total, valor_total"
      ]
    },
    {
      "cell_type": "code",
      "execution_count": null,
      "metadata": {
        "id": "4crzvxrHZRZS"
      },
      "outputs": [],
      "source": [
        "# Configuração da população\n",
        "toolbox = base.Toolbox()\n",
        "toolbox.register(\"attr_bool\", random.randint, 0, 1)\n",
        "toolbox.register(\"individual\", tools.initRepeat, creator.Individual, toolbox.attr_bool, n=len(ITENS))\n",
        "toolbox.register(\"population\", tools.initRepeat, list, toolbox.individual)\n",
        "\n",
        "toolbox.register(\"mate\", tools.cxOnePoint)\n",
        "toolbox.register(\"mutate\", tools.mutFlipBit, indpb=0.2)\n",
        "toolbox.register(\"select\", tools.selNSGA2)\n",
        "toolbox.register(\"evaluate\", evaluate)"
      ]
    },
    {
      "cell_type": "code",
      "execution_count": null,
      "metadata": {
        "id": "AR_IT52dZtIQ"
      },
      "outputs": [],
      "source": [
        "# Parâmetros do algoritmo\n",
        "NGEN = 100  # Número de gerações\n",
        "POP_SIZE = 100  # Tamanho da população\n",
        "CXPB, MUTPB = 0.7, 0.2  # Probabilidades de cruzamento e mutação\n",
        "\n",
        "# Inicialização\n",
        "def main():\n",
        "    pop = toolbox.population(n=POP_SIZE)\n",
        "    hof = tools.ParetoFront()\n",
        "    stats = tools.Statistics(lambda ind: ind.fitness.values)\n",
        "    stats.register(\"min\", np.min, axis=0)\n",
        "    stats.register(\"max\", np.max, axis=0)\n",
        "\n",
        "    pop, log = algorithms.eaSimple(pop, toolbox, cxpb=CXPB, mutpb=MUTPB, ngen=NGEN,\n",
        "                                         stats=stats, halloffame=hof, verbose=True)\n",
        "\n",
        "    # Coletar dados para o gráfico\n",
        "    pesos = [ind.fitness.values[0] for ind in pop]\n",
        "    valores = [ind.fitness.values[1] for ind in pop]\n",
        "    pareto_pesos = [ind.fitness.values[0] for ind in hof]\n",
        "    pareto_valores = [ind.fitness.values[1] for ind in hof]\n",
        "\n",
        "    # Identificar soluções dominadas\n",
        "    dominadas = [(pesos[i], valores[i]) for i in range(len(pesos)) if (pesos[i], valores[i]) not in zip(pareto_pesos, pareto_valores)]\n",
        "    if dominadas:\n",
        "        dominadas_pesos, dominadas_valores = zip(*dominadas)\n",
        "    else:\n",
        "        dominadas_pesos, dominadas_valores = [], []\n",
        "\n",
        "    # Plotando a fronteira de Pareto e soluções dominadas\n",
        "    plt.scatter(dominadas_pesos, dominadas_valores, c='gray', alpha=0.5, label=\"Soluções Dominadas\")\n",
        "    plt.scatter(pareto_pesos, pareto_valores, c='red', label=\"Fronteira de Pareto\")\n",
        "    plt.xlabel(\"Peso Total\")\n",
        "    plt.ylabel(\"Valor Total\")\n",
        "    plt.title(\"Fronteira de Pareto: Peso vs Valor\")\n",
        "    plt.legend()\n",
        "    plt.grid()\n",
        "    plt.show()\n",
        "\n",
        "    return pop, log, hof\n",
        "\n",
        "if __name__ == \"__main__\":\n",
        "    main()"
      ]
    },
    {
      "cell_type": "markdown",
      "metadata": {
        "id": "s63louRF2Ewm"
      },
      "source": [
        "# Exercício Prático - Ações"
      ]
    },
    {
      "cell_type": "code",
      "execution_count": null,
      "metadata": {
        "id": "u3kreKrF2TGH"
      },
      "outputs": [],
      "source": [
        "# @title Definição do problema multiobjetivo (Maximizar Retorno, Minimizar Risco)\n",
        "creator.create(\"FitnessMulti\", base.Fitness, weights=(1.0, -1.0))  # Maximiza retorno, minimiza risco\n",
        "creator.create(\"Individual\", list, fitness=creator.FitnessMulti)"
      ]
    },
    {
      "cell_type": "code",
      "execution_count": null,
      "metadata": {
        "id": "YaaswIuQ2bRH"
      },
      "outputs": [],
      "source": [
        "# @title Instância de teste\n",
        "# formato: (Retorno, risco)\n",
        "ACOES = [\n",
        "  (12, 8), (15, 10), (10, 6), (18, 12), (14, 9),\n",
        "  (8, 5), (16, 11), (11, 7), (13, 8), (9, 6)\n",
        "]\n",
        "\n",
        "Q_ACOES = len(ACOES)"
      ]
    },
    {
      "cell_type": "code",
      "execution_count": null,
      "metadata": {
        "id": "uFGKbguY3gNK"
      },
      "outputs": [],
      "source": [
        "# @title Função de avaliação\n",
        "def evaluate(individual):\n",
        "\n",
        "    ind = np.array(individual)\n",
        "    ind[ind < 0] = 0 # Não há peso negativo\n",
        "\n",
        "    # Normalizando\n",
        "    ind = (ind - np.min(ind)) / (np.max(ind) - np.min(ind))\n",
        "\n",
        "    # Calculo com base no vetor de pesos\n",
        "    retorno_total = sum(ACOES[i][0] * ind[i] for i in range(Q_ACOES))\n",
        "    risco_total = sum(ACOES[i][1] * ind[i] for i in range(Q_ACOES))\n",
        "\n",
        "    return retorno_total, risco_total"
      ]
    },
    {
      "cell_type": "code",
      "execution_count": null,
      "metadata": {
        "id": "cmnj_GAt3shx"
      },
      "outputs": [],
      "source": [
        "# @title Configuração da toolbox\n",
        "toolbox = base.Toolbox()\n",
        "toolbox.register(\"attr_float\", random.random)\n",
        "toolbox.register(\"individual\", tools.initRepeat, creator.Individual, toolbox.attr_float, n=Q_ACOES)\n",
        "toolbox.register(\"population\", tools.initRepeat, list, toolbox.individual)\n",
        "\n",
        "toolbox.register(\"mate\", tools.cxBlend, alpha=0.5)\n",
        "toolbox.register(\"mutate\", tools.mutGaussian, mu=0, sigma=0.1, indpb=0.2)\n",
        "toolbox.register(\"select\", tools.selNSGA2)\n",
        "toolbox.register(\"evaluate\", evaluate)"
      ]
    },
    {
      "cell_type": "code",
      "execution_count": null,
      "metadata": {
        "id": "3E6B3Gut5l5Y"
      },
      "outputs": [],
      "source": [
        "# @title Pipeline experimental\n",
        "\n",
        "# Parâmetros do algoritmo\n",
        "NGEN = 100  # Número de gerações\n",
        "POP_SIZE = 100  # Tamanho da população\n",
        "CXPB, MUTPB = 0.7, 0.2  # Probabilidades de cruzamento e mutação\n",
        "\n",
        "# Inicialização\n",
        "def main():\n",
        "    pop = toolbox.population(n=POP_SIZE)\n",
        "    hof = tools.ParetoFront()\n",
        "    stats = tools.Statistics(lambda ind: ind.fitness.values)\n",
        "    stats.register(\"min\", np.min, axis=0)\n",
        "    stats.register(\"max\", np.max, axis=0)\n",
        "\n",
        "    pop, log = algorithms.eaSimple(pop, toolbox, cxpb=CXPB, mutpb=MUTPB, ngen=NGEN,\n",
        "                                         stats=stats, halloffame=hof, verbose=True)\n",
        "\n",
        "    # Coletar dados para o gráfico\n",
        "    # formato: (Retorno, risco)\n",
        "    retornos = [ind.fitness.values[0] for ind in pop]\n",
        "    riscos = [ind.fitness.values[1] for ind in pop]\n",
        "    pareto_retornos = [ind.fitness.values[0] for ind in hof]\n",
        "    pareto_riscos = [ind.fitness.values[1] for ind in hof]\n",
        "\n",
        "    # Identificar soluções dominadas\n",
        "    dominadas = [(riscos[i], retornos[i]) for i in range(len(riscos)) if (riscos[i], retornos[i]) not in zip(pareto_riscos, pareto_retornos)]\n",
        "    if dominadas:\n",
        "        dominadas_riscos, dominadas_retornos = zip(*dominadas)\n",
        "    else:\n",
        "        dominadas_riscos, dominadas_retornos = [], []\n",
        "\n",
        "    # Plotando a fronteira de Pareto e soluções dominadas\n",
        "    plt.scatter(dominadas_riscos, dominadas_retornos, c='gray', alpha=0.5, label=\"Soluções Dominadas\")\n",
        "    plt.scatter(pareto_riscos, pareto_retornos, c='red', label=\"Fronteira de Pareto\")\n",
        "    plt.xlabel(\"Risco Total\")\n",
        "    plt.ylabel(\"Retorno Total\")\n",
        "    plt.title(\"Fronteira de Pareto: Risco vs Retorno\")\n",
        "    plt.legend()\n",
        "    plt.grid()\n",
        "    plt.show()\n",
        "\n",
        "    return pop, log, hof\n",
        "\n",
        "if __name__ == \"__main__\":\n",
        "    main()"
      ]
    }
  ],
  "metadata": {
    "colab": {
      "provenance": []
    },
    "kernelspec": {
      "display_name": "Python 3",
      "name": "python3"
    },
    "language_info": {
      "name": "python"
    }
  },
  "nbformat": 4,
  "nbformat_minor": 0
}