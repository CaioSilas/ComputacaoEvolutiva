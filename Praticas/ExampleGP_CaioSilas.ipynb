{
  "nbformat": 4,
  "nbformat_minor": 0,
  "metadata": {
    "colab": {
      "provenance": []
    },
    "kernelspec": {
      "name": "python3",
      "display_name": "Python 3"
    },
    "language_info": {
      "name": "python"
    }
  },
  "cells": [
    {
      "cell_type": "markdown",
      "source": [
        "## **Instalação do pacote deap**"
      ],
      "metadata": {
        "id": "8wM0IXmwY9qj"
      }
    },
    {
      "cell_type": "code",
      "execution_count": 78,
      "metadata": {
        "id": "9ba_n8jdnvbm",
        "colab": {
          "base_uri": "https://localhost:8080/"
        },
        "outputId": "56dac372-2b19-4587-9070-4c7ee1238521"
      },
      "outputs": [
        {
          "output_type": "stream",
          "name": "stdout",
          "text": [
            "Requirement already satisfied: deap in /usr/local/lib/python3.11/dist-packages (1.4.2)\n",
            "Requirement already satisfied: numpy in /usr/local/lib/python3.11/dist-packages (from deap) (1.26.4)\n"
          ]
        }
      ],
      "source": [
        "! pip install deap"
      ]
    },
    {
      "cell_type": "markdown",
      "source": [
        "## **Importação do framework e bibliotecas**"
      ],
      "metadata": {
        "id": "ND-NRi6OZCkS"
      }
    },
    {
      "cell_type": "code",
      "source": [
        "import random\n",
        "\n",
        "from deap import base\n",
        "from deap import creator\n",
        "from deap import tools\n",
        "from deap import gp\n",
        "import matplotlib.pyplot as plt\n",
        "from sklearn.datasets import load_digits\n",
        "\n",
        "from sklearn.model_selection import train_test_split\n",
        "from sklearn.preprocessing import StandardScaler"
      ],
      "metadata": {
        "id": "1D20BOFSn07o"
      },
      "execution_count": 79,
      "outputs": []
    },
    {
      "cell_type": "code",
      "source": [
        "import numpy as np\n",
        "import operator"
      ],
      "metadata": {
        "id": "NiKpHUV8w_LY"
      },
      "execution_count": 80,
      "outputs": []
    },
    {
      "cell_type": "code",
      "source": [
        "import matplotlib.pyplot as plt   # plotting"
      ],
      "metadata": {
        "id": "3sZA1inwt9W6"
      },
      "execution_count": 81,
      "outputs": []
    },
    {
      "cell_type": "markdown",
      "source": [
        "Carregando as imagens"
      ],
      "metadata": {
        "id": "uEadFTQjCLWi"
      }
    },
    {
      "cell_type": "code",
      "source": [
        "# Carregar o conjunto de dados MNIST reduzido\n",
        "digits = load_digits()\n",
        "X, y = digits.images, digits.target\n",
        "\n",
        "n_samples = len(X)\n",
        "X = X.reshape((n_samples, -1))  # Achatar as imagens em vetores\n",
        "\n",
        "# Normalizar os dados para melhorar o desempenho\n",
        "scaler = StandardScaler()\n",
        "X = scaler.fit_transform(X)\n",
        "\n",
        "# Criar rótulos binários (pares = 0, ímpares = 1)\n",
        "labels = np.where(y % 2 == 0, 0, 1)"
      ],
      "metadata": {
        "id": "DVKa6FLzCK9-"
      },
      "execution_count": 82,
      "outputs": []
    },
    {
      "cell_type": "code",
      "source": [
        "features = np.array([\n",
        "   [np.sum(img),                 # Soma dos pixels\n",
        "    np.count_nonzero(img),       # Número de pixels não nulos\n",
        "    np.mean(img),                # Média da intensidade\n",
        "    np.std(img),                 # Desvio padrão da intensidade\n",
        "    np.count_nonzero(img) / 64   # Proporção de pixels ativos\n",
        "   ]\n",
        "   for img in X\n",
        "])"
      ],
      "metadata": {
        "id": "Dm2oN-yIHVj1"
      },
      "execution_count": 83,
      "outputs": []
    },
    {
      "cell_type": "markdown",
      "source": [
        "Geração dos Dados para o exemplo"
      ],
      "metadata": {
        "id": "MV-fdUwHZJf6"
      }
    },
    {
      "cell_type": "markdown",
      "source": [
        "Criação do Fitness e Individuo"
      ],
      "metadata": {
        "id": "-CjTA3HFls4Q"
      }
    },
    {
      "cell_type": "code",
      "source": [
        "# Criar o problema de maximização (quanto mais acertos, melhor)\n",
        "creator.create(\"FitnessMax\", base.Fitness, weights=(1.0,))  # Maximizar acurácia\n",
        "creator.create(\"Individual\", gp.PrimitiveTree, fitness=creator.FitnessMax)"
      ],
      "metadata": {
        "id": "TdqbBlUjn2yI",
        "colab": {
          "base_uri": "https://localhost:8080/"
        },
        "outputId": "228a5d9b-b54e-4567-fbe2-92f3dfe0711c"
      },
      "execution_count": 84,
      "outputs": [
        {
          "output_type": "stream",
          "name": "stderr",
          "text": [
            "/usr/local/lib/python3.11/dist-packages/deap/creator.py:185: RuntimeWarning: A class named 'FitnessMax' has already been created and it will be overwritten. Consider deleting previous creation of that class or rename it.\n",
            "  warnings.warn(\"A class named '{0}' has already been created and it \"\n",
            "/usr/local/lib/python3.11/dist-packages/deap/creator.py:185: RuntimeWarning: A class named 'Individual' has already been created and it will be overwritten. Consider deleting previous creation of that class or rename it.\n",
            "  warnings.warn(\"A class named '{0}' has already been created and it \"\n"
          ]
        }
      ]
    },
    {
      "cell_type": "markdown",
      "source": [
        "Criação da função que cria o indivíduo com sigma embutido no cromossomo"
      ],
      "metadata": {
        "id": "eEAI8p22irX_"
      }
    },
    {
      "cell_type": "code",
      "source": [
        "# Definir os operadores e terminais\n",
        "pset = gp.PrimitiveSet(\"MAIN\", 5)  # Duas variáveis de entrada (x e y)\n",
        "# pset.renameArguments(ARG0='x')\n",
        "# pset.renameArguments(ARG1='y')\n",
        "pset.renameArguments(ARG0='sum_pixels', ARG1='nonzero_pixels', ARG2='mean_pixels', ARG3='std_pixels', ARG4='active_ratio')\n",
        "\n",
        "# Operações matemáticas\n",
        "pset.addPrimitive(operator.add, 2)\n",
        "pset.addPrimitive(operator.sub, 2)\n",
        "pset.addPrimitive(operator.mul, 2)\n",
        "\n",
        "# Funções lógicas\n",
        "pset.addPrimitive(operator.lt, 2)  # Menor que\n",
        "pset.addPrimitive(operator.gt, 2)  # Maior que\n",
        "\n",
        "# Constantes\n",
        "pset.addTerminal(1)\n",
        "pset.addTerminal(2)\n",
        "\n",
        "# pset.addPrimitive(operator.truediv, 2)\n",
        "# pset.addPrimitive(if_then_else, 3)\n",
        "# pset.addEphemeralConstant(\"rand101\", lambda: random.uniform(-1, 1))\n",
        "\n",
        "\n",
        "\n",
        "# Divisão protegida para evitar divisão por zero\n",
        "def protectedDiv(left, right):\n",
        "    # Evita divisão por valores muito pequenos\n",
        "    if abs(right) < 1e-6:\n",
        "        return 1  # Retorna 1 se o denominador for zero ou muito pequeno\n",
        "    return left / right\n",
        "\n",
        "pset.addPrimitive(protectedDiv, 2)\n",
        "\n",
        "# Configuração do toolbox\n",
        "toolbox = base.Toolbox()\n",
        "toolbox.register(\"expr\", gp.genFull, pset=pset, min_=1, max_=3)\n",
        "toolbox.register(\"individual\", tools.initIterate, creator.Individual, toolbox.expr)\n",
        "toolbox.register(\"population\", tools.initRepeat, list, toolbox.individual)\n",
        "\n",
        "# Compilar as árvores para transformá-las em funções executáveis\n",
        "toolbox.register(\"compile\", gp.compile, pset=pset)"
      ],
      "metadata": {
        "id": "ioqw0_-OixL2"
      },
      "execution_count": 85,
      "outputs": []
    },
    {
      "cell_type": "markdown",
      "source": [
        "Função de avaliação"
      ],
      "metadata": {
        "id": "23zXcTNSmFgG"
      }
    },
    {
      "cell_type": "code",
      "source": [
        "def evalDigits(individual):\n",
        "   func = toolbox.compile(expr=individual)\n",
        "   correct = 0\n",
        "   for (sum_pixels, nonzero_pixels, mean_pixels, std_pixels,\n",
        "active_ratio), label in zip(features, labels):\n",
        "       try:\n",
        "           prediction = func(sum_pixels, nonzero_pixels, mean_pixels,\n",
        "std_pixels, active_ratio)\n",
        "           predicted_label = 1 if prediction > 0 else 0\n",
        "       except:\n",
        "           predicted_label = 0  # Penaliza funções que dão erro\n",
        "\n",
        "       if predicted_label == label:\n",
        "           correct += 1\n",
        "   return correct / len(features),  # Retorna a acurácia"
      ],
      "metadata": {
        "id": "9ad4mLvrmEgi"
      },
      "execution_count": 86,
      "outputs": []
    },
    {
      "cell_type": "markdown",
      "source": [
        "Configurar operadores"
      ],
      "metadata": {
        "id": "UsP00kH6ZQYK"
      }
    },
    {
      "cell_type": "code",
      "source": [
        "toolbox.register(\"evaluate\", evalDigits)\n",
        "toolbox.register(\"select\", tools.selTournament, tournsize=5)\n",
        "toolbox.register(\"mate\", gp.cxOnePoint)\n",
        "toolbox.register(\"expr_mut\", gp.genFull, min_=0, max_=2)\n",
        "toolbox.register(\"mutate\", gp.mutUniform, expr=toolbox.expr, pset=pset)\n",
        "\n",
        "# Limitar o tamanho das árvores para evitar crescimento descontrolado (bloat)\n",
        "toolbox.decorate(\"mate\", gp.staticLimit(key=operator.attrgetter(\"height\"), max_value=5))\n",
        "toolbox.decorate(\"mutate\", gp.staticLimit(key=operator.attrgetter(\"height\"), max_value=5))"
      ],
      "metadata": {
        "id": "UIeO0-9Yn7Gw"
      },
      "execution_count": 87,
      "outputs": []
    },
    {
      "cell_type": "markdown",
      "source": [
        "Algoritmo Evolutivo"
      ],
      "metadata": {
        "id": "9XX9mN4SZr95"
      }
    },
    {
      "cell_type": "code",
      "source": [
        "from deap import algorithms"
      ],
      "metadata": {
        "id": "eqQ6o12KmkFZ"
      },
      "execution_count": 88,
      "outputs": []
    },
    {
      "cell_type": "code",
      "source": [
        "# Inicializar a população\n",
        "population = toolbox.population(n=500)\n",
        "hof = tools.HallOfFame(1)  # Guardar o melhor indivíduo\n",
        "\n",
        "# Estatísticas\n",
        "stats = tools.Statistics(lambda ind: ind.fitness.values)\n",
        "stats.register(\"avg\", np.mean)\n",
        "stats.register(\"max\", np.max)\n",
        "\n",
        "# Rodar o GP por 40 gerações\n",
        "population, log = algorithms.eaSimple(population, toolbox,\n",
        "                                      cxpb=0.5, mutpb=0.3,\n",
        "                                      ngen=40, stats=stats,\n",
        "                                      halloffame=hof, verbose=True)\n"
      ],
      "metadata": {
        "id": "6QCr-nBZoMf_",
        "colab": {
          "base_uri": "https://localhost:8080/"
        },
        "outputId": "04aec466-efae-4541-eb14-bddf358369bd"
      },
      "execution_count": 90,
      "outputs": [
        {
          "output_type": "stream",
          "name": "stdout",
          "text": [
            "gen\tnevals\tavg     \tmax     \n",
            "0  \t500   \t0.496055\t0.538676\n",
            "1  \t325   \t0.508997\t0.538676\n",
            "2  \t330   \t0.519876\t0.542014\n",
            "3  \t317   \t0.527073\t0.542014\n",
            "4  \t343   \t0.528003\t0.543127\n",
            "5  \t322   \t0.529357\t0.543127\n",
            "6  \t327   \t0.527763\t0.543127\n",
            "7  \t304   \t0.528093\t0.548136\n",
            "8  \t332   \t0.528185\t0.548136\n",
            "9  \t321   \t0.531495\t0.548136\n",
            "10 \t323   \t0.532835\t0.548136\n",
            "11 \t344   \t0.532189\t0.549805\n",
            "12 \t319   \t0.532595\t0.549805\n",
            "13 \t342   \t0.527316\t0.549805\n",
            "14 \t334   \t0.530727\t0.549805\n",
            "15 \t314   \t0.530503\t0.549805\n",
            "16 \t337   \t0.528668\t0.549805\n",
            "17 \t338   \t0.526934\t0.549805\n",
            "18 \t323   \t0.527469\t0.549805\n",
            "19 \t321   \t0.528272\t0.549805\n",
            "20 \t306   \t0.530615\t0.549805\n",
            "21 \t300   \t0.531151\t0.549805\n",
            "22 \t333   \t0.528824\t0.549805\n",
            "23 \t308   \t0.528299\t0.549805\n",
            "24 \t328   \t0.529665\t0.549805\n",
            "25 \t328   \t0.529628\t0.549805\n",
            "26 \t339   \t0.528154\t0.549805\n",
            "27 \t323   \t0.530359\t0.549805\n",
            "28 \t307   \t0.531383\t0.549805\n",
            "29 \t338   \t0.530028\t0.549805\n",
            "30 \t307   \t0.53307 \t0.549805\n",
            "31 \t325   \t0.530659\t0.549805\n",
            "32 \t320   \t0.53053 \t0.549805\n",
            "33 \t329   \t0.530995\t0.549805\n",
            "34 \t302   \t0.533151\t0.549805\n",
            "35 \t300   \t0.533715\t0.549805\n",
            "36 \t324   \t0.530713\t0.550362\n",
            "37 \t296   \t0.535101\t0.550362\n",
            "38 \t300   \t0.533689\t0.550362\n",
            "39 \t331   \t0.530786\t0.550362\n",
            "40 \t342   \t0.533254\t0.550362\n"
          ]
        }
      ]
    }
  ]
}